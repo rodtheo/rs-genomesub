{
 "cells": [
  {
   "cell_type": "code",
   "execution_count": 41,
   "id": "lesbian-encyclopedia",
   "metadata": {},
   "outputs": [],
   "source": [
    "from Bio import SeqIO\n",
    "from Bio import pairwise2\n",
    "from Bio.pairwise2 import format_alignment"
   ]
  },
  {
   "cell_type": "code",
   "execution_count": 2,
   "id": "threaded-destruction",
   "metadata": {},
   "outputs": [],
   "source": [
    "d = dict()\n",
    "\n",
    "for record in SeqIO.parse(\"examples/input_diamond_sample_genome.fa\", \"fasta\"):\n",
    "    d['reference'] = record"
   ]
  },
  {
   "cell_type": "code",
   "execution_count": 3,
   "id": "positive-infection",
   "metadata": {},
   "outputs": [],
   "source": [
    "for record in SeqIO.parse(\"out_consensus.fa\", \"fasta\"):\n",
    "    d['new'] = record"
   ]
  },
  {
   "cell_type": "code",
   "execution_count": 4,
   "id": "equivalent-tactics",
   "metadata": {},
   "outputs": [
    {
     "data": {
      "text/plain": [
       "dict_keys(['reference', 'new'])"
      ]
     },
     "execution_count": 4,
     "metadata": {},
     "output_type": "execute_result"
    }
   ],
   "source": [
    "d.keys()"
   ]
  },
  {
   "cell_type": "code",
   "execution_count": 5,
   "id": "designing-virginia",
   "metadata": {},
   "outputs": [],
   "source": [
    "ref = d['reference']\n",
    "mod = d['new']"
   ]
  },
  {
   "cell_type": "code",
   "execution_count": 24,
   "id": "about-success",
   "metadata": {},
   "outputs": [],
   "source": [
    "genes_cds = SeqIO.to_dict(SeqIO.parse(\"examples/input_diamond_sample_cds.fa\", \"fasta\"))"
   ]
  },
  {
   "cell_type": "code",
   "execution_count": 18,
   "id": "accurate-bradley",
   "metadata": {},
   "outputs": [
    {
     "data": {
      "text/plain": [
       "SeqRecord(seq=Seq('GCCG'), id='Pantoea_bnut', name='Pantoea_bnut', description='Pantoea_bnut [gcode=11] [organism=Genus species] [strain=strain]', dbxrefs=[])"
      ]
     },
     "execution_count": 18,
     "metadata": {},
     "output_type": "execute_result"
    }
   ],
   "source": [
    "ref[9811 - 1:9811+3]"
   ]
  },
  {
   "cell_type": "code",
   "execution_count": 19,
   "id": "distinct-legislation",
   "metadata": {},
   "outputs": [
    {
     "data": {
      "text/plain": [
       "SeqRecord(seq=Seq('GGCC'), id='Pantoea_bnut', name='Pantoea_bnut', description='Pantoea_bnut [gcode=11] [organism=Genus species] [strain=strain]', dbxrefs=[])"
      ]
     },
     "execution_count": 19,
     "metadata": {},
     "output_type": "execute_result"
    }
   ],
   "source": [
    "mod[9811 - 1:9811+3]"
   ]
  },
  {
   "cell_type": "code",
   "execution_count": 31,
   "id": "opening-embassy",
   "metadata": {},
   "outputs": [
    {
     "data": {
      "text/plain": [
       "SeqRecord(seq=Seq('ATGATGAGAAATAATGCCGATGATCATAATGAAGGTCGAAAGAAAAATCCTATA...TGA'), id='Pantoea_bnut', name='Pantoea_bnut', description='Pantoea_bnut [gcode=11] [organism=Genus species] [strain=strain]', dbxrefs=[])"
      ]
     },
     "execution_count": 31,
     "metadata": {},
     "output_type": "execute_result"
    }
   ],
   "source": [
    "ref[8976 - 1:10414]"
   ]
  },
  {
   "cell_type": "code",
   "execution_count": 34,
   "id": "satellite-arbitration",
   "metadata": {},
   "outputs": [
    {
     "data": {
      "text/plain": [
       "864"
      ]
     },
     "execution_count": 34,
     "metadata": {},
     "output_type": "execute_result"
    }
   ],
   "source": [
    "len(genes_cds['EFABLAPO_00008'])"
   ]
  },
  {
   "cell_type": "code",
   "execution_count": 50,
   "id": "departmental-exhibition",
   "metadata": {},
   "outputs": [
    {
     "data": {
      "text/plain": [
       "SeqRecord(seq=Seq('ATGATGAGAAATAATGCCGATGATCATAATGAAGGTCGAAAGAAAAATCCTATA...TAG'), id='Pantoea_bnut', name='Pantoea_bnut', description='Pantoea_bnut [gcode=11] [organism=Genus species] [strain=strain]', dbxrefs=[])"
      ]
     },
     "execution_count": 50,
     "metadata": {},
     "output_type": "execute_result"
    }
   ],
   "source": [
    "mod[8975:9840]"
   ]
  },
  {
   "cell_type": "code",
   "execution_count": 51,
   "id": "medical-genre",
   "metadata": {},
   "outputs": [],
   "source": [
    "seq1 = genes_cds['EFABLAPO_00008'].seq\n",
    "seq2 = mod[8975:9840].seq\n",
    "# Finding similarities\n",
    "alignments = pairwise2.align.globalxx(seq1, seq2)"
   ]
  },
  {
   "cell_type": "code",
   "execution_count": 54,
   "id": "chemical-ethernet",
   "metadata": {},
   "outputs": [
    {
     "name": "stdout",
     "output_type": "stream",
     "text": [
      "ATGATGAGAAATAATGCCGATGATCATAATGAAGGTCGAAAGAAAAATCCTATAATAACTTGGTATGATCAACTGAATAAAATTATTGACCACGTCGTTGATTGTCGTGATCCTATTGTTAATAACGTTCACTTTGAGCCTGGATTCAATCTCCCAGAGCTCGATGAAAATGTCCGTGAATTCTTTGATTGTGCATATGCAAGTTGGGCTACACTAGGTGAGTTTTCAGGAAAAAAAATTCATTTGATGAATTTAATGGACAACTCGATATGTGGAACAACAAAAATATTCCCGTCATTATTAATTGTTGCTCGTGCAGTTCACTATATCAGAAAAACAGGCGAATCGATTATGATCGTCTGTCCATCCTCTGGAAATAAAGCAATAGCGCTCCGCGCCGCAGTGGAAAGAGCGATTCGTTGCCAACTCGTTAGACCAGACCAACTATCTATTTCAATTATTATCCCTGAAAATGCAAAACATAAAGTTCGTTCTGGTGATCTTTCAATCAATTCTCATTTGGCGCGTTTAAATCCTGTGATGCTGTATCGCGGAGACAAAACAGATAATGTAAAGGTTCTGGCAAAAAAGTTTATTGAAGAGCACAGTGAGTTATACTGTAAAGCTCGGAATATACGGTTATGGTATTCGCTTGATATTCGTAACTATAAGATAGCTGATGCGTTGCGCGCTTTTTATGAACTTGAAGCATGTCCACCAATAAAAGAAAAGCGCCGGATTCATGCTCACGCTGTTTCTAGTGCTTATGGGTTATTGGGGTATAATCTTGGCTGCACTGTACTTGAGAATAGTGGATTAAAAAATCCACAGTACAG-CCGGGATTTTTGTTGGTTCAACATTTAG\n",
      "|||||||||||||||||||||||||||||||||||||||||||||||||||||||||||||||||||||||||||||||||||||||||||||||||||||||||||||||||||||||||||||||||||||||||||||||||||||||||||||||||||||||||||||||||||||||||||||||||||||||||||||||||||||||||||||||||||||||||||||||||||||||||||||||||||||||||||||||||||||||||||||||||||||||||||||||||||||||||||||||||||||||||||||||||||||||||||||||||||||||||||||||||||||||||||||||||||||||||||||||||||||||||||||||||||||||||||||||||||||||||||||||||||||||||||||||||||||||||||||||||||||||||||||||||||||||||||||||||||||||||||||||||||||||||||||||||||||||||||||||||||||||||||||||||||||||||||||||||||||||||||||||||||||||||||||||||||||||||||||||||||||||||||||||||||||||||||||||||||||||||||||||||||||||||||||||||||||||||||||||||||||||||||||||||||||||||||||||||||||||||||||||||||||||||||||||||||||||||||||||||||||||||||||||||||||||||||||||||||| ||||||||||||||||||||||||||||\n",
      "ATGATGAGAAATAATGCCGATGATCATAATGAAGGTCGAAAGAAAAATCCTATAATAACTTGGTATGATCAACTGAATAAAATTATTGACCACGTCGTTGATTGTCGTGATCCTATTGTTAATAACGTTCACTTTGAGCCTGGATTCAATCTCCCAGAGCTCGATGAAAATGTCCGTGAATTCTTTGATTGTGCATATGCAAGTTGGGCTACACTAGGTGAGTTTTCAGGAAAAAAAATTCATTTGATGAATTTAATGGACAACTCGATATGTGGAACAACAAAAATATTCCCGTCATTATTAATTGTTGCTCGTGCAGTTCACTATATCAGAAAAACAGGCGAATCGATTATGATCGTCTGTCCATCCTCTGGAAATAAAGCAATAGCGCTCCGCGCCGCAGTGGAAAGAGCGATTCGTTGCCAACTCGTTAGACCAGACCAACTATCTATTTCAATTATTATCCCTGAAAATGCAAAACATAAAGTTCGTTCTGGTGATCTTTCAATCAATTCTCATTTGGCGCGTTTAAATCCTGTGATGCTGTATCGCGGAGACAAAACAGATAATGTAAAGGTTCTGGCAAAAAAGTTTATTGAAGAGCACAGTGAGTTATACTGTAAAGCTCGGAATATACGGTTATGGTATTCGCTTGATATTCGTAACTATAAGATAGCTGATGCGTTGCGCGCTTTTTATGAACTTGAAGCATGTCCACCAATAAAAGAAAAGCGCCGGATTCATGCTCACGCTGTTTCTAGTGCTTATGGGTTATTGGGGTATAATCTTGGCTGCACTGTACTTGAGAATAGTGGATTAAAAAATCCACAGTACAGGCCGGGATTTTTGTTGGTTCAACATTTAG\n",
      "  Score=864\n",
      "\n"
     ]
    }
   ],
   "source": [
    "print(format_alignment(*alignments[0]))"
   ]
  },
  {
   "cell_type": "code",
   "execution_count": 56,
   "id": "copyrighted-confidentiality",
   "metadata": {},
   "outputs": [
    {
     "data": {
      "text/plain": [
       "SeqRecord(seq=Seq('ATGTGCATGGCTTTTACTGGCGTCATGAATGCTATTGAGCGTCAGCTTATAAAT...TGA'), id='EFABLAPO_00009', name='EFABLAPO_00009', description='EFABLAPO_00009', dbxrefs=[])"
      ]
     },
     "execution_count": 56,
     "metadata": {},
     "output_type": "execute_result"
    }
   ],
   "source": [
    "genes_cds['EFABLAPO_00009']"
   ]
  },
  {
   "cell_type": "code",
   "execution_count": 60,
   "id": "historic-basics",
   "metadata": {},
   "outputs": [
    {
     "data": {
      "text/plain": [
       "237"
      ]
     },
     "execution_count": 60,
     "metadata": {},
     "output_type": "execute_result"
    }
   ],
   "source": [
    "len(genes_cds['EFABLAPO_00009'])"
   ]
  },
  {
   "cell_type": "code",
   "execution_count": 57,
   "id": "satellite-support",
   "metadata": {},
   "outputs": [
    {
     "data": {
      "text/plain": [
       "SeqRecord(seq=Seq('ATGTGCATGGCTTTTACTGGCGTCATGAATGCTATTGAGCGTCAGCTTATAAAT...TGA'), id='Pantoea_bnut', name='Pantoea_bnut', description='Pantoea_bnut [gcode=11] [organism=Genus species] [strain=strain]', dbxrefs=[])"
      ]
     },
     "execution_count": 57,
     "metadata": {},
     "output_type": "execute_result"
    }
   ],
   "source": [
    "mod[10178:10415]"
   ]
  },
  {
   "cell_type": "code",
   "execution_count": 58,
   "id": "stylish-terrorism",
   "metadata": {},
   "outputs": [],
   "source": [
    "seq1 = genes_cds['EFABLAPO_00009'].seq\n",
    "seq2 = mod[10178:10415].seq\n",
    "# Finding similarities\n",
    "alignments = pairwise2.align.globalxx(seq1, seq2)"
   ]
  },
  {
   "cell_type": "code",
   "execution_count": 59,
   "id": "isolated-control",
   "metadata": {},
   "outputs": [
    {
     "name": "stdout",
     "output_type": "stream",
     "text": [
      "ATGTGCATGGCTTTTACTGGCGTCATGAATGCTATTGAGCGTCAGCTTATAAATGAGTTTGATGAGGTTGTCATACATGCATCAGGTTCCTACTTTTCCGAACAATATGAAATGCTTGAAGAAAATAAATTTATTAACATCAGTAATGACGCTGATTTTCATCATGCGATGTGGGAACTGTCAGATTTAGAATCAGTGCAGCATAAATCAATTACCCTAAAGGCAAATTCACTATGA\n",
      "|||||||||||||||||||||||||||||||||||||||||||||||||||||||||||||||||||||||||||||||||||||||||||||||||||||||||||||||||||||||||||||||||||||||||||||||||||||||||||||||||||||||||||||||||||||||||||||||||||||||||||||||||||||||||||||||||||||||||||||\n",
      "ATGTGCATGGCTTTTACTGGCGTCATGAATGCTATTGAGCGTCAGCTTATAAATGAGTTTGATGAGGTTGTCATACATGCATCAGGTTCCTACTTTTCCGAACAATATGAAATGCTTGAAGAAAATAAATTTATTAACATCAGTAATGACGCTGATTTTCATCATGCGATGTGGGAACTGTCAGATTTAGAATCAGTGCAGCATAAATCAATTACCCTAAAGGCAAATTCACTATGA\n",
      "  Score=237\n",
      "\n"
     ]
    }
   ],
   "source": [
    "print(format_alignment(*alignments[0]))"
   ]
  },
  {
   "cell_type": "code",
   "execution_count": 63,
   "id": "electronic-territory",
   "metadata": {},
   "outputs": [
    {
     "data": {
      "text/plain": [
       "True"
      ]
     },
     "execution_count": 63,
     "metadata": {},
     "output_type": "execute_result"
    }
   ],
   "source": [
    "genes_cds['EFABLAPO_00010'].seq == mod[10411:11008].seq"
   ]
  },
  {
   "cell_type": "code",
   "execution_count": 68,
   "id": "thousand-stadium",
   "metadata": {},
   "outputs": [],
   "source": [
    "genes_lifted = dict()\n",
    "with open('temp.txt', 'r') as fliftgenes:\n",
    "    for line in fliftgenes.readlines():\n",
    "        chrom, start, end, gene_id, _, strand = line.strip(\"\\n\").split(\"\\t\")\n",
    "        genes_lifted[gene_id] = (chrom, start, end, gene_id, strand)"
   ]
  },
  {
   "cell_type": "code",
   "execution_count": 81,
   "id": "median-cattle",
   "metadata": {},
   "outputs": [
    {
     "name": "stdout",
     "output_type": "stream",
     "text": [
      "EFABLAPO_00008 => False\n",
      "EFABLAPO_00014 => False\n",
      "EFABLAPO_00016 => False\n",
      "EFABLAPO_00018 => False\n",
      "EFABLAPO_00019 => False\n",
      "EFABLAPO_00027 => False\n",
      "EFABLAPO_00048 => False\n",
      "EFABLAPO_00049 => False\n",
      "EFABLAPO_00052 => False\n"
     ]
    }
   ],
   "source": [
    "for gene_lifted_key, gene_lifted_val in genes_lifted.items():\n",
    "    lifstart = int(gene_lifted_val[1])\n",
    "    lifend = int(gene_lifted_val[2])\n",
    "    if gene_lifted_val[4] == \"+\":\n",
    "        compare_lifted = mod[lifstart:lifend].seq\n",
    "    else:\n",
    "        compare_lifted = mod[lifstart:lifend].seq.reverse_complement()\n",
    "    if not genes_cds[gene_lifted_key].seq == compare_lifted:\n",
    "        print(gene_lifted_key, \"=>\", genes_cds[gene_lifted_key].seq == compare_lifted)"
   ]
  },
  {
   "cell_type": "code",
   "execution_count": 76,
   "id": "configured-bolivia",
   "metadata": {},
   "outputs": [
    {
     "data": {
      "text/plain": [
       "Seq('ATGCGACGCTTTTCCTCACAGATAGGCGTGACCTTGGATCAGCCTAAAAGCTTG...TAA')"
      ]
     },
     "execution_count": 76,
     "metadata": {},
     "output_type": "execute_result"
    }
   ],
   "source": [
    "genes_cds['EFABLAPO_00006'].seq"
   ]
  },
  {
   "cell_type": "code",
   "execution_count": 79,
   "id": "living-millennium",
   "metadata": {},
   "outputs": [
    {
     "data": {
      "text/plain": [
       "Seq('ATGCGACGCTTTTCCTCACAGATAGGCGTGACCTTGGATCAGCCTAAAAGCTTG...TAA')"
      ]
     },
     "execution_count": 79,
     "metadata": {},
     "output_type": "execute_result"
    }
   ],
   "source": [
    "lifstart = int(genes_lifted['EFABLAPO_00006'][1])\n",
    "lifend = int(genes_lifted['EFABLAPO_00006'][2])\n",
    "mod[lifstart:lifend].seq.reverse_complement()"
   ]
  },
  {
   "cell_type": "code",
   "execution_count": 104,
   "id": "serial-circle",
   "metadata": {},
   "outputs": [
    {
     "data": {
      "text/plain": [
       "SeqRecord(seq=Seq('TGTTC'), id='Pantoea_bnut', name='Pantoea_bnut', description='Pantoea_bnut [gcode=11] [organism=Genus species] [strain=strain]', dbxrefs=[])"
      ]
     },
     "execution_count": 104,
     "metadata": {},
     "output_type": "execute_result"
    }
   ],
   "source": [
    "ref[90281-1:90281+4]"
   ]
  },
  {
   "cell_type": "code",
   "execution_count": 103,
   "id": "understanding-spectrum",
   "metadata": {},
   "outputs": [
    {
     "data": {
      "text/plain": [
       "SeqRecord(seq=Seq('TGTTC'), id='Pantoea_bnut', name='Pantoea_bnut', description='Pantoea_bnut [gcode=11] [organism=Genus species] [strain=strain]', dbxrefs=[])"
      ]
     },
     "execution_count": 103,
     "metadata": {},
     "output_type": "execute_result"
    }
   ],
   "source": [
    "mod[90291-1:90291+4]"
   ]
  },
  {
   "cell_type": "code",
   "execution_count": 105,
   "id": "liable-variety",
   "metadata": {},
   "outputs": [
    {
     "data": {
      "text/plain": [
       "('Pantoea_bnut', '88953', '89322', 'EFABLAPO_00090', '-')"
      ]
     },
     "execution_count": 105,
     "metadata": {},
     "output_type": "execute_result"
    }
   ],
   "source": [
    "genes_lifted['EFABLAPO_00090']"
   ]
  },
  {
   "cell_type": "code",
   "execution_count": 106,
   "id": "crazy-haiti",
   "metadata": {},
   "outputs": [
    {
     "data": {
      "text/plain": [
       "('Pantoea_bnut', '89418', '90135', 'EFABLAPO_00091', '-')"
      ]
     },
     "execution_count": 106,
     "metadata": {},
     "output_type": "execute_result"
    }
   ],
   "source": [
    "genes_lifted['EFABLAPO_00091']"
   ]
  },
  {
   "cell_type": "code",
   "execution_count": 107,
   "id": "urban-crown",
   "metadata": {},
   "outputs": [
    {
     "data": {
      "text/plain": [
       "('Pantoea_bnut', '90297', '90606', 'EFABLAPO_00092', '-')"
      ]
     },
     "execution_count": 107,
     "metadata": {},
     "output_type": "execute_result"
    }
   ],
   "source": [
    "genes_lifted['EFABLAPO_00092']"
   ]
  },
  {
   "cell_type": "code",
   "execution_count": 111,
   "id": "emerging-copper",
   "metadata": {},
   "outputs": [
    {
     "name": "stdout",
     "output_type": "stream",
     "text": [
      ">EFABLAPO_00090,EFABLAPO_00091,EFABLAPO_00092\n",
      "ATGAATAACATAAGAATCGGAGTTCGTCTCGGTATCACCTTCGGCTTTATGGCTCTCCTTGTCATGTTTATGGTGCTCATCGGCATCATAAAAATTAACGCTCTCGGGAATGCCAACGATGACATATCAGGGAGTCTTTACACCAAAGCCTCCACTTCTCTGTCAATCCGTTACTACACATCAGACATGAGCCGGCTTGCGCGTAATGCGATTCTCCTTAAAGACGCTCCAAAAAGGGAAAAAGCTATAAGCGATTACCGCGACGAAAGACGCGAGGTTGACAGGTTAATCAGCCTTATCGGCACGTAGGTGAACAACCCCCAGGGAAACGAAATCTTTATCCGGCTCAAAGCCCGTGCAGAACTTTTTCTGCCTTTCATTGATGAGGTTGTGGCACTTGCCCAACAGGGAAAAAGCGATGATGCCACCCAACTCCTGTTTGGCCCCCGTTACCAGACTCAGGGAGACTTTATGGCGTCGCTGAAAGAGATGCAGACCTTCCAGGAGACCCGAATGAGCTCTGCCGCTGCGCAGGCTCGCGCCGACCGTTCTGGTGCACTGATGATGCTGGTTGTTGCCGGTTTGGTTGCGCTGTTACTGGCCGCGATATCCGCTTGGGTTATCACCCGGAGTATCACGCGGCCGCTCAGTGTGGCCGTTGAGGCCGCCCGCCGGGTGGCCCGCGGTGACCTGACTGGTAGCGTCAGTGCAGACCGTAAAGACGAAACGGGCATACTGCTGTCTGCCATCAGTGACATGCAGGCCTCGCTGATTAACACGGTCAGCCTCGTGAGAAGCAATGCAGAAAGTGTGGCATCCGCCAGTACCCAGATTGCCCAGGGTAACTCAGACCTGTCACAGCGTACCGAGGAGCAGGCCAGCGCCCTTGAACAAACATCAGCAACCATGACGCAGCTCGGCGTGACGGTGAAGAATAACGCAGATAATGCCCGTCAGGCAGGCCAGCTTGCAGTAAGCGTTCGGGATGTTGCAAATAAAGGCAGCGAGGCCACCACGGCCATTACCGGCACCATGAAATCCATCAGCGAAAGCTCCGGCCGTATTGCCGAGATTACTGCCGTGATTGACGGAATCGCATTCCAGACGAATATCCTTGCGCTCAACGCCGCCGTGGAAGCGGCCCGTGCCGGCGAGCACGGACGGGGATTTGCTGTCGTGGCAAGCTAAGTCAGGTCGCTGGCACAGAGAAGCGCTTCGGCTGCGGGTGAGATTCGGCAGCTGATTGCAGCCAATGCTGACACTGTGGGACAGGGTAATGCACTGGTGATTCACGCGTCTGAAACGATGTCAGGAATTCTCTCCGCCGTAGGTAAGCTCACGGACACTGTTGAAGAAATCAACTCCGCCAGTGCCGAACAGGCCCGCGGGATTGAGCAGGTAGGCATTGCCGTTACGGAGATGGACACGACGACACAGCAGAATGCTGCACTGGTTGAAGAGTCGGCCTCCGCTGCATCAAGCCTCAGGGAGCAGGCGGAACGGCTTCTGCAGGCTGTGTCTGTGTTCAGTCTGAGTGGCCCTTCTGAGCCTTCCGTTGATCGTGTGCCCGCCACGGTTGTAAGGCCGGGTTTTAAAACCGCAACTGTAAAAAACCGCGCAGAAGACGAAGACGGAAGCTGGACGCATTTCTGA\n"
     ]
    }
   ],
   "source": [
    "print(\">EFABLAPO_00090,EFABLAPO_00091,EFABLAPO_00092\")\n",
    "print(mod[88953:90606].seq.reverse_complement())"
   ]
  },
  {
   "cell_type": "code",
   "execution_count": 118,
   "id": "satisfied-witness",
   "metadata": {},
   "outputs": [
    {
     "ename": "TranslationError",
     "evalue": "Extra in frame stop codon found.",
     "output_type": "error",
     "traceback": [
      "\u001b[0;31m----------------------------------------------------------------------\u001b[0m",
      "\u001b[0;31mTranslationError\u001b[0m                     Traceback (most recent call last)",
      "\u001b[0;32m<ipython-input-118-192f50f1eb0b>\u001b[0m in \u001b[0;36m<module>\u001b[0;34m\u001b[0m\n\u001b[0;32m----> 1\u001b[0;31m \u001b[0mmod\u001b[0m\u001b[0;34m[\u001b[0m\u001b[0;36m88953\u001b[0m\u001b[0;34m:\u001b[0m\u001b[0;36m90606\u001b[0m\u001b[0;34m]\u001b[0m\u001b[0;34m.\u001b[0m\u001b[0mseq\u001b[0m\u001b[0;34m.\u001b[0m\u001b[0mreverse_complement\u001b[0m\u001b[0;34m(\u001b[0m\u001b[0;34m)\u001b[0m\u001b[0;34m.\u001b[0m\u001b[0mtranslate\u001b[0m\u001b[0;34m(\u001b[0m\u001b[0mcds\u001b[0m\u001b[0;34m=\u001b[0m\u001b[0;32mTrue\u001b[0m\u001b[0;34m)\u001b[0m\u001b[0;34m\u001b[0m\u001b[0;34m\u001b[0m\u001b[0m\n\u001b[0m",
      "\u001b[0;32m~/miniconda3/envs/bioinfo_repeats/lib/python3.8/site-packages/Bio/Seq.py\u001b[0m in \u001b[0;36mtranslate\u001b[0;34m(self, table, stop_symbol, to_stop, cds, gap)\u001b[0m\n\u001b[1;32m   1020\u001b[0m \u001b[0;34m\u001b[0m\u001b[0m\n\u001b[1;32m   1021\u001b[0m         return Seq(\n\u001b[0;32m-> 1022\u001b[0;31m             \u001b[0m_translate_str\u001b[0m\u001b[0;34m(\u001b[0m\u001b[0mstr\u001b[0m\u001b[0;34m(\u001b[0m\u001b[0mself\u001b[0m\u001b[0;34m)\u001b[0m\u001b[0;34m,\u001b[0m \u001b[0mcodon_table\u001b[0m\u001b[0;34m,\u001b[0m \u001b[0mstop_symbol\u001b[0m\u001b[0;34m,\u001b[0m \u001b[0mto_stop\u001b[0m\u001b[0;34m,\u001b[0m \u001b[0mcds\u001b[0m\u001b[0;34m,\u001b[0m \u001b[0mgap\u001b[0m\u001b[0;34m=\u001b[0m\u001b[0mgap\u001b[0m\u001b[0;34m)\u001b[0m\u001b[0;34m\u001b[0m\u001b[0;34m\u001b[0m\u001b[0m\n\u001b[0m\u001b[1;32m   1023\u001b[0m         )\n\u001b[1;32m   1024\u001b[0m \u001b[0;34m\u001b[0m\u001b[0m\n",
      "\u001b[0;32m~/miniconda3/envs/bioinfo_repeats/lib/python3.8/site-packages/Bio/Seq.py\u001b[0m in \u001b[0;36m_translate_str\u001b[0;34m(sequence, table, stop_symbol, to_stop, cds, pos_stop, gap)\u001b[0m\n\u001b[1;32m   2351\u001b[0m             \u001b[0;32mif\u001b[0m \u001b[0mcodon\u001b[0m \u001b[0;32min\u001b[0m \u001b[0mtable\u001b[0m\u001b[0;34m.\u001b[0m\u001b[0mstop_codons\u001b[0m\u001b[0;34m:\u001b[0m\u001b[0;34m\u001b[0m\u001b[0;34m\u001b[0m\u001b[0m\n\u001b[1;32m   2352\u001b[0m                 \u001b[0;32mif\u001b[0m \u001b[0mcds\u001b[0m\u001b[0;34m:\u001b[0m\u001b[0;34m\u001b[0m\u001b[0;34m\u001b[0m\u001b[0m\n\u001b[0;32m-> 2353\u001b[0;31m                     raise CodonTable.TranslationError(\n\u001b[0m\u001b[1;32m   2354\u001b[0m                         \u001b[0;34m\"Extra in frame stop codon found.\"\u001b[0m\u001b[0;34m\u001b[0m\u001b[0;34m\u001b[0m\u001b[0m\n\u001b[1;32m   2355\u001b[0m                     ) from None\n",
      "\u001b[0;31mTranslationError\u001b[0m: Extra in frame stop codon found."
     ]
    }
   ],
   "source": [
    "mod[88953:90606].seq.reverse_complement().translate(cds=True)"
   ]
  },
  {
   "cell_type": "code",
   "execution_count": 117,
   "id": "optional-armenia",
   "metadata": {},
   "outputs": [
    {
     "data": {
      "text/plain": [
       "Seq('MNNIRIGVRLGITFGFMALLVMFMVLIGIIKINALGNANDDISGSLYTKASTSL...IGT')"
      ]
     },
     "execution_count": 117,
     "metadata": {},
     "output_type": "execute_result"
    }
   ],
   "source": [
    "mod[88953:90606].seq.reverse_complement().translate(to_stop=True)"
   ]
  }
 ],
 "metadata": {
  "kernelspec": {
   "display_name": "Python 3",
   "language": "python",
   "name": "python3"
  },
  "language_info": {
   "codemirror_mode": {
    "name": "ipython",
    "version": 3
   },
   "file_extension": ".py",
   "mimetype": "text/x-python",
   "name": "python",
   "nbconvert_exporter": "python",
   "pygments_lexer": "ipython3",
   "version": "3.8.6"
  }
 },
 "nbformat": 4,
 "nbformat_minor": 5
}
